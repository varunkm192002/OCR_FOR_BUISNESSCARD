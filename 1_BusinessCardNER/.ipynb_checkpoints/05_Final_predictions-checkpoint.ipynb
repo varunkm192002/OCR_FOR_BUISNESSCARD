{
 "cells": [
  {
   "cell_type": "code",
   "execution_count": 1,
   "id": "d21bc98e",
   "metadata": {},
   "outputs": [],
   "source": [
    "import pandas as pd"
   ]
  },
  {
   "cell_type": "code",
   "execution_count": 8,
   "id": "bb53a669",
   "metadata": {},
   "outputs": [],
   "source": [
    "import cv2\n",
    "import predictions as pred\n",
    "import csv"
   ]
  },
  {
   "cell_type": "code",
   "execution_count": 4,
   "id": "0154136d",
   "metadata": {},
   "outputs": [],
   "source": [
    "img =cv2.imread('./data/242.jpeg')\n",
    "cv2.namedWindow('orignal',cv2.WINDOW_NORMAL)\n",
    "cv2.imshow('orignal',img)\n",
    "cv2.waitKey(0)\n",
    "cv2.destroyAllWindows()"
   ]
  },
  {
   "cell_type": "code",
   "execution_count": 5,
   "id": "9bd47a84",
   "metadata": {},
   "outputs": [
    {
     "name": "stdout",
     "output_type": "stream",
     "text": [
      "dr. t. s. reddy senior consultant traffic transportation lea associates south asia pvt. ltd. leadership in consulting engineers planners engineering hl no 1-4-879/54/1a, street no. 8, p lannin g near vijaya bank, lower tank bund, gandhinagar, hyderabad-500080 a.p. india solutions tel 91-40-66747 122 / 66747135 . mobile 91-91778 82230 email tsr@lasaindia.com ————— limmappagari@ymait.com _ alea group company website - www.lasaindia.com\n"
     ]
    }
   ],
   "source": [
    "img_results,entities = pred.getPredictions(img)\n",
    "\n",
    "\n",
    "cv2.namedWindow('predictions',cv2.WINDOW_NORMAL)\n",
    "cv2.imshow('predictions',img_results)\n",
    "cv2.waitKey(0)\n",
    "cv2.destroyAllWindows()"
   ]
  },
  {
   "cell_type": "code",
   "execution_count": 6,
   "id": "6f5ca9f8",
   "metadata": {},
   "outputs": [
    {
     "data": {
      "text/plain": [
       "{'NAME': ['Dr T S Reddy'],\n",
       " 'ORG': ['Lea Associates South Asia Pvt Ltd'],\n",
       " 'DES': ['Senior Consultant'],\n",
       " 'PHONE': ['91', '66747135', '9182230'],\n",
       " 'EMAIL': ['tsr@lasaindia.com', 'limmappagari@ymait.com'],\n",
       " 'WEB': ['www.lasaindia.com']}"
      ]
     },
     "execution_count": 6,
     "metadata": {},
     "output_type": "execute_result"
    }
   ],
   "source": [
    "entities"
   ]
  },
  {
   "cell_type": "code",
   "execution_count": 9,
   "id": "5b6c416f",
   "metadata": {},
   "outputs": [],
   "source": [
    "#saving datat to csv\n",
    "\n",
    "with open('my_file.csv', 'w', newline='') as f:\n",
    "    writer = csv.DictWriter(f, fieldnames=entities.keys())\n",
    "    writer.writeheader()\n",
    "    writer.writerow(entities)"
   ]
  },
  {
   "cell_type": "code",
   "execution_count": null,
   "id": "627be345",
   "metadata": {},
   "outputs": [],
   "source": []
  }
 ],
 "metadata": {
  "kernelspec": {
   "display_name": "Python 3 (ipykernel)",
   "language": "python",
   "name": "python3"
  },
  "language_info": {
   "codemirror_mode": {
    "name": "ipython",
    "version": 3
   },
   "file_extension": ".py",
   "mimetype": "text/x-python",
   "name": "python",
   "nbconvert_exporter": "python",
   "pygments_lexer": "ipython3",
   "version": "3.10.2"
  }
 },
 "nbformat": 4,
 "nbformat_minor": 5
}
